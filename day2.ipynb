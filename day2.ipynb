{
  "nbformat": 4,
  "nbformat_minor": 0,
  "metadata": {
    "colab": {
      "name": "day2.ipynb",
      "provenance": [],
      "authorship_tag": "ABX9TyMXvnfro9O5OU0x3LVMDTYB",
      "include_colab_link": true
    },
    "kernelspec": {
      "name": "python3",
      "display_name": "Python 3"
    }
  },
  "cells": [
    {
      "cell_type": "markdown",
      "metadata": {
        "id": "view-in-github",
        "colab_type": "text"
      },
      "source": [
        "<a href=\"https://colab.research.google.com/github/MuhdDembo/GlobalAIHubPythonCourse/blob/main/day2.ipynb\" target=\"_parent\"><img src=\"https://colab.research.google.com/assets/colab-badge.svg\" alt=\"Open In Colab\"/></a>"
      ]
    },
    {
      "cell_type": "code",
      "metadata": {
        "colab": {
          "base_uri": "https://localhost:8080/"
        },
        "id": "e2wiMzEsdNMn",
        "outputId": "2890d8d5-f379-4585-ffed-f934eb71551c"
      },
      "source": [
        "my_list = [1,2,3,4,5,6,7,8,9,10]\r\n",
        "n = len(my_list)\r\n",
        "print(my_list)\r\n",
        "print(\"Length of list = \", n)\r\n",
        "\r\n",
        "middle_index = n//2\r\n",
        "first_half = my_list[:middle_index]  #Slice first half\r\n",
        "\r\n",
        "\r\n",
        "print(\"First half of list: \", first_half)\r\n",
        "\r\n",
        "second_half = my_list[middle_index:]  #Slice second half\r\n",
        "\r\n",
        "\r\n",
        "print(\"Second half of list: \", second_half)\r\n",
        "\r\n",
        "list = second_half + first_half\r\n",
        "print (\"swapped list: \", list) "
      ],
      "execution_count": 26,
      "outputs": [
        {
          "output_type": "stream",
          "text": [
            "[1, 2, 3, 4, 5, 6, 7, 8, 9, 10]\n",
            "Length of list =  10\n",
            "First half of list:  [1, 2, 3, 4, 5]\n",
            "Second half of list:  [6, 7, 8, 9, 10]\n",
            "swapped list:  [6, 7, 8, 9, 10, 1, 2, 3, 4, 5]\n"
          ],
          "name": "stdout"
        }
      ]
    }
  ]
}